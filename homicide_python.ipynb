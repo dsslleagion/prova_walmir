{
 "cells": [
  {
   "cell_type": "markdown",
   "metadata": {},
   "source": [
    "## importação"
   ]
  },
  {
   "cell_type": "code",
   "execution_count": 124,
   "metadata": {},
   "outputs": [],
   "source": [
    "from sklearn.cluster import KMeans \n",
    "\n",
    "import pandas as pd \n",
    "\n",
    "from sklearn.preprocessing import MinMaxScaler \n",
    "\n",
    "from matplotlib import pyplot as plt "
   ]
  },
  {
   "cell_type": "markdown",
   "metadata": {},
   "source": [
    "## Carregando Dataset"
   ]
  },
  {
   "cell_type": "code",
   "execution_count": 125,
   "metadata": {},
   "outputs": [],
   "source": [
    "df = pd.read_csv('homicide_statistics.csv')"
   ]
  },
  {
   "cell_type": "markdown",
   "metadata": {},
   "source": [
    "## Verificando os Dados"
   ]
  },
  {
   "cell_type": "code",
   "execution_count": 126,
   "metadata": {},
   "outputs": [
    {
     "data": {
      "text/html": [
       "<div>\n",
       "<style scoped>\n",
       "    .dataframe tbody tr th:only-of-type {\n",
       "        vertical-align: middle;\n",
       "    }\n",
       "\n",
       "    .dataframe tbody tr th {\n",
       "        vertical-align: top;\n",
       "    }\n",
       "\n",
       "    .dataframe thead th {\n",
       "        text-align: right;\n",
       "    }\n",
       "</style>\n",
       "<table border=\"1\" class=\"dataframe\">\n",
       "  <thead>\n",
       "    <tr style=\"text-align: right;\">\n",
       "      <th></th>\n",
       "      <th>period</th>\n",
       "      <th>incidents_NSW</th>\n",
       "      <th>incidents_VIC</th>\n",
       "      <th>incidents_QLD</th>\n",
       "      <th>incidents_WA</th>\n",
       "      <th>incidents_SA</th>\n",
       "      <th>incidents_TAS</th>\n",
       "      <th>incidents_ACT</th>\n",
       "      <th>NT</th>\n",
       "      <th>incident_rate_NSW</th>\n",
       "      <th>...</th>\n",
       "      <th>filicide</th>\n",
       "      <th>parricide</th>\n",
       "      <th>sibilicide</th>\n",
       "      <th>other_family</th>\n",
       "      <th>firearm</th>\n",
       "      <th>knife_or_other_sharp_instrument</th>\n",
       "      <th>blunt_instrument</th>\n",
       "      <th>hands_and_feet</th>\n",
       "      <th>other</th>\n",
       "      <th>not_state_or_unknown</th>\n",
       "    </tr>\n",
       "  </thead>\n",
       "  <tbody>\n",
       "    <tr>\n",
       "      <th>0</th>\n",
       "      <td>1989-90</td>\n",
       "      <td>95</td>\n",
       "      <td>74</td>\n",
       "      <td>68</td>\n",
       "      <td>25</td>\n",
       "      <td>20</td>\n",
       "      <td>5</td>\n",
       "      <td>0</td>\n",
       "      <td>20</td>\n",
       "      <td>1.63</td>\n",
       "      <td>...</td>\n",
       "      <td>16</td>\n",
       "      <td>7</td>\n",
       "      <td>4</td>\n",
       "      <td>7</td>\n",
       "      <td>76</td>\n",
       "      <td>99</td>\n",
       "      <td>8</td>\n",
       "      <td>107</td>\n",
       "      <td>7</td>\n",
       "      <td>0</td>\n",
       "    </tr>\n",
       "    <tr>\n",
       "      <th>1</th>\n",
       "      <td>1990-91</td>\n",
       "      <td>119</td>\n",
       "      <td>72</td>\n",
       "      <td>56</td>\n",
       "      <td>22</td>\n",
       "      <td>22</td>\n",
       "      <td>5</td>\n",
       "      <td>0</td>\n",
       "      <td>28</td>\n",
       "      <td>2.02</td>\n",
       "      <td>...</td>\n",
       "      <td>16</td>\n",
       "      <td>9</td>\n",
       "      <td>5</td>\n",
       "      <td>9</td>\n",
       "      <td>68</td>\n",
       "      <td>107</td>\n",
       "      <td>37</td>\n",
       "      <td>93</td>\n",
       "      <td>2</td>\n",
       "      <td>0</td>\n",
       "    </tr>\n",
       "    <tr>\n",
       "      <th>2</th>\n",
       "      <td>1991-92</td>\n",
       "      <td>106</td>\n",
       "      <td>54</td>\n",
       "      <td>68</td>\n",
       "      <td>29</td>\n",
       "      <td>27</td>\n",
       "      <td>9</td>\n",
       "      <td>2</td>\n",
       "      <td>18</td>\n",
       "      <td>1.78</td>\n",
       "      <td>...</td>\n",
       "      <td>16</td>\n",
       "      <td>9</td>\n",
       "      <td>5</td>\n",
       "      <td>8</td>\n",
       "      <td>63</td>\n",
       "      <td>89</td>\n",
       "      <td>39</td>\n",
       "      <td>93</td>\n",
       "      <td>7</td>\n",
       "      <td>5</td>\n",
       "    </tr>\n",
       "    <tr>\n",
       "      <th>3</th>\n",
       "      <td>1992-93</td>\n",
       "      <td>112</td>\n",
       "      <td>59</td>\n",
       "      <td>73</td>\n",
       "      <td>34</td>\n",
       "      <td>30</td>\n",
       "      <td>6</td>\n",
       "      <td>1</td>\n",
       "      <td>17</td>\n",
       "      <td>1.87</td>\n",
       "      <td>...</td>\n",
       "      <td>17</td>\n",
       "      <td>12</td>\n",
       "      <td>4</td>\n",
       "      <td>11</td>\n",
       "      <td>84</td>\n",
       "      <td>102</td>\n",
       "      <td>37</td>\n",
       "      <td>85</td>\n",
       "      <td>4</td>\n",
       "      <td>0</td>\n",
       "    </tr>\n",
       "    <tr>\n",
       "      <th>4</th>\n",
       "      <td>1993-94</td>\n",
       "      <td>118</td>\n",
       "      <td>48</td>\n",
       "      <td>62</td>\n",
       "      <td>36</td>\n",
       "      <td>29</td>\n",
       "      <td>5</td>\n",
       "      <td>2</td>\n",
       "      <td>23</td>\n",
       "      <td>1.95</td>\n",
       "      <td>...</td>\n",
       "      <td>24</td>\n",
       "      <td>11</td>\n",
       "      <td>7</td>\n",
       "      <td>13</td>\n",
       "      <td>60</td>\n",
       "      <td>117</td>\n",
       "      <td>44</td>\n",
       "      <td>83</td>\n",
       "      <td>5</td>\n",
       "      <td>2</td>\n",
       "    </tr>\n",
       "    <tr>\n",
       "      <th>5</th>\n",
       "      <td>1994-95</td>\n",
       "      <td>90</td>\n",
       "      <td>74</td>\n",
       "      <td>60</td>\n",
       "      <td>46</td>\n",
       "      <td>29</td>\n",
       "      <td>5</td>\n",
       "      <td>4</td>\n",
       "      <td>19</td>\n",
       "      <td>1.47</td>\n",
       "      <td>...</td>\n",
       "      <td>19</td>\n",
       "      <td>15</td>\n",
       "      <td>10</td>\n",
       "      <td>15</td>\n",
       "      <td>80</td>\n",
       "      <td>106</td>\n",
       "      <td>41</td>\n",
       "      <td>76</td>\n",
       "      <td>11</td>\n",
       "      <td>0</td>\n",
       "    </tr>\n",
       "    <tr>\n",
       "      <th>6</th>\n",
       "      <td>1995-96</td>\n",
       "      <td>110</td>\n",
       "      <td>52</td>\n",
       "      <td>66</td>\n",
       "      <td>34</td>\n",
       "      <td>13</td>\n",
       "      <td>6</td>\n",
       "      <td>1</td>\n",
       "      <td>21</td>\n",
       "      <td>1.78</td>\n",
       "      <td>...</td>\n",
       "      <td>20</td>\n",
       "      <td>11</td>\n",
       "      <td>4</td>\n",
       "      <td>13</td>\n",
       "      <td>67</td>\n",
       "      <td>99</td>\n",
       "      <td>35</td>\n",
       "      <td>69</td>\n",
       "      <td>4</td>\n",
       "      <td>0</td>\n",
       "    </tr>\n",
       "    <tr>\n",
       "      <th>7</th>\n",
       "      <td>1996-97</td>\n",
       "      <td>100</td>\n",
       "      <td>51</td>\n",
       "      <td>80</td>\n",
       "      <td>23</td>\n",
       "      <td>22</td>\n",
       "      <td>3</td>\n",
       "      <td>2</td>\n",
       "      <td>18</td>\n",
       "      <td>1.60</td>\n",
       "      <td>...</td>\n",
       "      <td>16</td>\n",
       "      <td>11</td>\n",
       "      <td>10</td>\n",
       "      <td>15</td>\n",
       "      <td>65</td>\n",
       "      <td>104</td>\n",
       "      <td>37</td>\n",
       "      <td>62</td>\n",
       "      <td>19</td>\n",
       "      <td>4</td>\n",
       "    </tr>\n",
       "    <tr>\n",
       "      <th>8</th>\n",
       "      <td>1997-98</td>\n",
       "      <td>107</td>\n",
       "      <td>42</td>\n",
       "      <td>74</td>\n",
       "      <td>34</td>\n",
       "      <td>27</td>\n",
       "      <td>4</td>\n",
       "      <td>1</td>\n",
       "      <td>11</td>\n",
       "      <td>1.70</td>\n",
       "      <td>...</td>\n",
       "      <td>18</td>\n",
       "      <td>18</td>\n",
       "      <td>3</td>\n",
       "      <td>8</td>\n",
       "      <td>63</td>\n",
       "      <td>107</td>\n",
       "      <td>23</td>\n",
       "      <td>70</td>\n",
       "      <td>33</td>\n",
       "      <td>2</td>\n",
       "    </tr>\n",
       "    <tr>\n",
       "      <th>9</th>\n",
       "      <td>1998-99</td>\n",
       "      <td>112</td>\n",
       "      <td>54</td>\n",
       "      <td>64</td>\n",
       "      <td>33</td>\n",
       "      <td>38</td>\n",
       "      <td>7</td>\n",
       "      <td>2</td>\n",
       "      <td>18</td>\n",
       "      <td>1.76</td>\n",
       "      <td>...</td>\n",
       "      <td>21</td>\n",
       "      <td>11</td>\n",
       "      <td>3</td>\n",
       "      <td>10</td>\n",
       "      <td>59</td>\n",
       "      <td>107</td>\n",
       "      <td>37</td>\n",
       "      <td>89</td>\n",
       "      <td>28</td>\n",
       "      <td>0</td>\n",
       "    </tr>\n",
       "  </tbody>\n",
       "</table>\n",
       "<p>10 rows × 45 columns</p>\n",
       "</div>"
      ],
      "text/plain": [
       "    period  incidents_NSW  incidents_VIC  incidents_QLD  incidents_WA  \\\n",
       "0  1989-90             95             74             68            25   \n",
       "1  1990-91            119             72             56            22   \n",
       "2  1991-92            106             54             68            29   \n",
       "3  1992-93            112             59             73            34   \n",
       "4  1993-94            118             48             62            36   \n",
       "5  1994-95             90             74             60            46   \n",
       "6  1995-96            110             52             66            34   \n",
       "7  1996-97            100             51             80            23   \n",
       "8  1997-98            107             42             74            34   \n",
       "9  1998-99            112             54             64            33   \n",
       "\n",
       "   incidents_SA  incidents_TAS  incidents_ACT  NT  incident_rate_NSW  ...  \\\n",
       "0            20              5              0  20               1.63  ...   \n",
       "1            22              5              0  28               2.02  ...   \n",
       "2            27              9              2  18               1.78  ...   \n",
       "3            30              6              1  17               1.87  ...   \n",
       "4            29              5              2  23               1.95  ...   \n",
       "5            29              5              4  19               1.47  ...   \n",
       "6            13              6              1  21               1.78  ...   \n",
       "7            22              3              2  18               1.60  ...   \n",
       "8            27              4              1  11               1.70  ...   \n",
       "9            38              7              2  18               1.76  ...   \n",
       "\n",
       "   filicide  parricide  sibilicide  other_family  firearm  \\\n",
       "0        16          7           4             7       76   \n",
       "1        16          9           5             9       68   \n",
       "2        16          9           5             8       63   \n",
       "3        17         12           4            11       84   \n",
       "4        24         11           7            13       60   \n",
       "5        19         15          10            15       80   \n",
       "6        20         11           4            13       67   \n",
       "7        16         11          10            15       65   \n",
       "8        18         18           3             8       63   \n",
       "9        21         11           3            10       59   \n",
       "\n",
       "   knife_or_other_sharp_instrument  blunt_instrument  hands_and_feet  other  \\\n",
       "0                               99                 8             107      7   \n",
       "1                              107                37              93      2   \n",
       "2                               89                39              93      7   \n",
       "3                              102                37              85      4   \n",
       "4                              117                44              83      5   \n",
       "5                              106                41              76     11   \n",
       "6                               99                35              69      4   \n",
       "7                              104                37              62     19   \n",
       "8                              107                23              70     33   \n",
       "9                              107                37              89     28   \n",
       "\n",
       "   not_state_or_unknown  \n",
       "0                     0  \n",
       "1                     0  \n",
       "2                     5  \n",
       "3                     0  \n",
       "4                     2  \n",
       "5                     0  \n",
       "6                     0  \n",
       "7                     4  \n",
       "8                     2  \n",
       "9                     0  \n",
       "\n",
       "[10 rows x 45 columns]"
      ]
     },
     "execution_count": 126,
     "metadata": {},
     "output_type": "execute_result"
    }
   ],
   "source": [
    "df.head(10)"
   ]
  },
  {
   "cell_type": "markdown",
   "metadata": {},
   "source": [
    "## Exibição do Número de linhas e Número de colunas"
   ]
  },
  {
   "cell_type": "code",
   "execution_count": 127,
   "metadata": {},
   "outputs": [
    {
     "data": {
      "text/plain": [
       "(34, 45)"
      ]
     },
     "execution_count": 127,
     "metadata": {},
     "output_type": "execute_result"
    }
   ],
   "source": [
    "df.shape"
   ]
  },
  {
   "cell_type": "markdown",
   "metadata": {},
   "source": [
    "## contar os valores ausentes"
   ]
  },
  {
   "cell_type": "code",
   "execution_count": 128,
   "metadata": {},
   "outputs": [
    {
     "data": {
      "text/plain": [
       "period                             0\n",
       "incidents_NSW                      0\n",
       "incidents_VIC                      0\n",
       "incidents_QLD                      0\n",
       "incidents_WA                       0\n",
       "incidents_SA                       0\n",
       "incidents_TAS                      0\n",
       "incidents_ACT                      0\n",
       "NT                                 0\n",
       "incident_rate_NSW                  0\n",
       "incident_rate_VIC                  0\n",
       "incident_rate_QLD                  0\n",
       "incident_rate_WA                   0\n",
       "incident_rate_SA                   0\n",
       "incident_rate_TAS                  0\n",
       "incident_rate_ACT                  0\n",
       "incident_rate_NT                   0\n",
       "cleared_by_charge                  0\n",
       "offender_died_by_suicide           0\n",
       "cleared_otherwise                  0\n",
       "cleared                            0\n",
       "not_cleared                        0\n",
       "murder                             0\n",
       "manslaughter                       0\n",
       "infanticide                        0\n",
       "domestic                           0\n",
       "acquaintance                       0\n",
       "stranger                           0\n",
       "relationship_not_stated            0\n",
       "domestic_rate_per_100K             0\n",
       "acquaintance_rate_per_100K         0\n",
       "stranger_rate_per_100K             0\n",
       "count_female                       0\n",
       "count_male                         0\n",
       "intimate_partner                   0\n",
       "filicide                           0\n",
       "parricide                          0\n",
       "sibilicide                         0\n",
       "other_family                       0\n",
       "firearm                            0\n",
       "knife_or_other_sharp_instrument    0\n",
       "blunt_instrument                   0\n",
       "hands_and_feet                     0\n",
       "other                              0\n",
       "not_state_or_unknown               0\n",
       "dtype: int64"
      ]
     },
     "execution_count": 128,
     "metadata": {},
     "output_type": "execute_result"
    }
   ],
   "source": [
    "df.isna().sum()"
   ]
  },
  {
   "cell_type": "markdown",
   "metadata": {},
   "source": [
    " ## Exibe um resumo informativo sobre o DataFrame"
   ]
  },
  {
   "cell_type": "code",
   "execution_count": 129,
   "metadata": {},
   "outputs": [
    {
     "name": "stdout",
     "output_type": "stream",
     "text": [
      "<class 'pandas.core.frame.DataFrame'>\n",
      "RangeIndex: 34 entries, 0 to 33\n",
      "Data columns (total 45 columns):\n",
      " #   Column                           Non-Null Count  Dtype  \n",
      "---  ------                           --------------  -----  \n",
      " 0   period                           34 non-null     object \n",
      " 1   incidents_NSW                    34 non-null     int64  \n",
      " 2   incidents_VIC                    34 non-null     int64  \n",
      " 3   incidents_QLD                    34 non-null     int64  \n",
      " 4   incidents_WA                     34 non-null     int64  \n",
      " 5   incidents_SA                     34 non-null     int64  \n",
      " 6   incidents_TAS                    34 non-null     int64  \n",
      " 7   incidents_ACT                    34 non-null     int64  \n",
      " 8   NT                               34 non-null     int64  \n",
      " 9   incident_rate_NSW                34 non-null     float64\n",
      " 10  incident_rate_VIC                34 non-null     float64\n",
      " 11  incident_rate_QLD                34 non-null     float64\n",
      " 12  incident_rate_WA                 34 non-null     float64\n",
      " 13  incident_rate_SA                 34 non-null     float64\n",
      " 14  incident_rate_TAS                34 non-null     float64\n",
      " 15  incident_rate_ACT                34 non-null     float64\n",
      " 16  incident_rate_NT                 34 non-null     float64\n",
      " 17  cleared_by_charge                34 non-null     int64  \n",
      " 18  offender_died_by_suicide         34 non-null     int64  \n",
      " 19  cleared_otherwise                34 non-null     int64  \n",
      " 20  cleared                          34 non-null     int64  \n",
      " 21  not_cleared                      34 non-null     int64  \n",
      " 22  murder                           34 non-null     int64  \n",
      " 23  manslaughter                     34 non-null     int64  \n",
      " 24  infanticide                      34 non-null     int64  \n",
      " 25  domestic                         34 non-null     int64  \n",
      " 26  acquaintance                     34 non-null     int64  \n",
      " 27  stranger                         34 non-null     int64  \n",
      " 28  relationship_not_stated          34 non-null     int64  \n",
      " 29  domestic_rate_per_100K           34 non-null     float64\n",
      " 30  acquaintance_rate_per_100K       34 non-null     float64\n",
      " 31  stranger_rate_per_100K           34 non-null     float64\n",
      " 32  count_female                     34 non-null     int64  \n",
      " 33  count_male                       34 non-null     int64  \n",
      " 34  intimate_partner                 34 non-null     int64  \n",
      " 35  filicide                         34 non-null     int64  \n",
      " 36  parricide                        34 non-null     int64  \n",
      " 37  sibilicide                       34 non-null     int64  \n",
      " 38  other_family                     34 non-null     int64  \n",
      " 39  firearm                          34 non-null     int64  \n",
      " 40  knife_or_other_sharp_instrument  34 non-null     int64  \n",
      " 41  blunt_instrument                 34 non-null     int64  \n",
      " 42  hands_and_feet                   34 non-null     int64  \n",
      " 43  other                            34 non-null     int64  \n",
      " 44  not_state_or_unknown             34 non-null     int64  \n",
      "dtypes: float64(11), int64(33), object(1)\n",
      "memory usage: 12.1+ KB\n"
     ]
    }
   ],
   "source": [
    "df.info()"
   ]
  },
  {
   "cell_type": "markdown",
   "metadata": {},
   "source": [
    "**Explicação**:\n",
    "Colunas específicas do dataset que são relevantes para a análise de homicídios em diferentes contextos. Estas colunas são:\n",
    "\n",
    "- **incident_rate_NSW** e **incident_rate_VIC**: Taxas de incidentes em New South Wales (NSW) e Victoria (VIC), respectivamente.\n",
    "- **domestic_rate_per_100K**: Taxa de homicídios domésticos por 100.000 habitantes.\n",
    "- **acquaintance_rate_per_100K**: Taxa de homicídios por conhecidos por 100.000 habitantes.\n",
    "- **stranger_rate_per_100K**: Taxa de homicídios por estranhos por 100.000 habitantes.\n",
    "- **count_female** e **count_male**: Contagem de vítimas femininas e masculinas.\n",
    "Sentido de usar essas colunas:\n",
    "Essas colunas fornecem uma visão abrangente das taxas de homicídios em diferentes regiões e contextos (doméstico, conhecido, estranho), além de considerar o gênero das vítimas. Isso ajuda a identificar padrões e variações geográficas e contextuais nos homicídios."
   ]
  },
  {
   "cell_type": "code",
   "execution_count": 130,
   "metadata": {},
   "outputs": [],
   "source": [
    "# Seleção de colunas para análise\n",
    "selected_columns = ['incident_rate_NSW', 'incident_rate_VIC', 'domestic_rate_per_100K', \n",
    "                    'acquaintance_rate_per_100K', 'stranger_rate_per_100K', 'count_female', 'count_male']"
   ]
  },
  {
   "cell_type": "markdown",
   "metadata": {},
   "source": [
    "Essas colunas fornecem uma visão abrangente das taxas de homicídios em diferentes regiões e contextos (doméstico, conhecido, estranho), além de considerar o gênero das vítimas. Isso ajuda a identificar padrões e variações geográficas e contextuais nos homicídios."
   ]
  },
  {
   "cell_type": "code",
   "execution_count": 131,
   "metadata": {},
   "outputs": [],
   "source": [
    "# Normalização dos dados\n",
    "## Usamos MinMaxScaler para normalizar os dados, de modo que todas as variáveis fiquem dentro do mesmo intervalo.\n",
    "scaler = MinMaxScaler()\n",
    "df[selected_columns] = scaler.fit_transform(df[selected_columns])"
   ]
  },
  {
   "cell_type": "code",
   "execution_count": 132,
   "metadata": {},
   "outputs": [],
   "source": [
    "# Método Elbow para determinar o número de clusters\n",
    "sse = []\n",
    "k_rng = range(1, 10)\n",
    "for k in k_rng:\n",
    "    km = KMeans(n_clusters=k, random_state=42)\n",
    "    km.fit(df[selected_columns])\n",
    "    sse.append(km.inertia_)"
   ]
  },
  {
   "cell_type": "code",
   "execution_count": 133,
   "metadata": {},
   "outputs": [
    {
     "data": {
      "text/plain": [
       "[<matplotlib.lines.Line2D at 0x231fe27c6e0>]"
      ]
     },
     "execution_count": 133,
     "metadata": {},
     "output_type": "execute_result"
    },
    {
     "data": {
      "image/png": "[encoded data removed]",
      "text/plain": [
       "<Figure size 640x480 with 1 Axes>"
      ]
     },
     "metadata": {},
     "output_type": "display_data"
    }
   ],
   "source": [
    "plt.title('O Metodo Elbow') \n",
    "\n",
    "plt.xlabel('Qtde. de Clusters (K)') \n",
    "\n",
    "plt.ylabel('WCSSE - Sum of Squared Errors') # Within Cluster Sum of Squares \n",
    "\n",
    "plt.plot(k_rng,sse) "
   ]
  },
  {
   "cell_type": "markdown",
   "metadata": {},
   "source": [
    "**Explicação:**\n",
    "Construímos o modelo KMeans com 3 clusters (baseado na análise do método Elbow) e ajustamos o modelo aos dados. fit_predict retorna os rótulos dos clusters."
   ]
  },
  {
   "cell_type": "code",
   "execution_count": 134,
   "metadata": {},
   "outputs": [],
   "source": [
    "# Construção do modelo de clustering com KMeans\n",
    "km = KMeans(n_clusters=3, random_state=42)\n",
    "y_predicted = km.fit_predict(df[selected_columns]) "
   ]
  },
  {
   "cell_type": "code",
   "execution_count": 135,
   "metadata": {},
   "outputs": [],
   "source": [
    "# Adicionar a coluna de clusters ao dataframe\n",
    "df['cluster'] = y_predicted\n"
   ]
  },
  {
   "cell_type": "code",
   "execution_count": 136,
   "metadata": {},
   "outputs": [
    {
     "data": {
      "image/png": "[encoded data removed]",
      "text/plain": [
       "<Figure size 640x480 with 1 Axes>"
      ]
     },
     "metadata": {},
     "output_type": "display_data"
    }
   ],
   "source": [
    "# Separação dos clusters\n",
    "df1 = df[df.cluster == 0]\n",
    "df2 = df[df.cluster == 1]\n",
    "df3 = df[df.cluster == 2]\n",
    "df4 = df[df.cluster == 3]\n",
    "\n",
    "# Plotagem dos clusters usando duas das colunas para visualização\n",
    "plt.scatter(df1['incident_rate_NSW'], df1['incident_rate_VIC'], color='green', label='Cluster 0')\n",
    "plt.scatter(df2['incident_rate_NSW'], df2['incident_rate_VIC'], color='red', label='Cluster 1')\n",
    "plt.scatter(df3['incident_rate_NSW'], df3['incident_rate_VIC'], color='black', label='Cluster 2')\n",
    "plt.scatter(df4['incident_rate_NSW'], df4['incident_rate_VIC'], color='blue', label='Cluster 3')\n",
    "\n",
    "# Plotagem dos centróides\n",
    "plt.scatter(km.cluster_centers_[:, 0], km.cluster_centers_[:, 1], color='purple', marker='*', label='Centroid')\n",
    "plt.xlabel(\"incident_rate_NSW\")\n",
    "plt.ylabel('incident_rate_VIC')\n",
    "plt.legend()\n",
    "plt.show()"
   ]
  },
  {
   "cell_type": "markdown",
   "metadata": {},
   "source": [
    "**Conclusão dos Centróides**\n",
    "Os centróides representam os pontos médios dos clusters e fornecem uma visão geral das características médias dos homicídios em cada cluster. Por exemplo:\n",
    "\n",
    "- **Cluster 0** pode representar áreas com taxas moderadas de incidentes e características demográficas equilibradas.\n",
    "- **Cluster 1** pode representar áreas com altas taxas de homicídios domésticos.\n",
    "- **Cluster 2** pode representar áreas com baixas taxas de homicídios por conhecidos.\n",
    "- **Cluster 3** pode representar áreas com altas taxas de homicídios por estranhos.\n",
    "\n",
    "\n",
    "Essa análise nos ajuda a identificar padrões e tendências nos dados de homicídios, podendo orientar políticas públicas e ações preventivas em diferentes regiões e contextos."
   ]
  }
 ],
 "metadata": {
  "kernelspec": {
   "display_name": "Python 3",
   "language": "python",
   "name": "python3"
  },
  "language_info": {
   "codemirror_mode": {
    "name": "ipython",
    "version": 3
   },
   "file_extension": ".py",
   "mimetype": "text/x-python",
   "name": "python",
   "nbconvert_exporter": "python",
   "pygments_lexer": "ipython3",
   "version": "3.12.3"
  }
 },
 "nbformat": 4,
 "nbformat_minor": 2
}
